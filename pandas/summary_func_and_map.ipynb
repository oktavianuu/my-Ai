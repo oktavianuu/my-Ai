{
 "cells": [
  {
   "cell_type": "code",
   "execution_count": 4,
   "id": "c16fd111-dd56-46b4-b843-04bd88c0c4c6",
   "metadata": {},
   "outputs": [],
   "source": [
    "import pandas as pd\n",
    "reviews = pd.read_csv(\"/home/oktavianu/data/winemag-data-130k-v2.csv\", index_col=0)\n",
    "import numpy as np\n",
    "# pd.set_option('display.max_rows', 5)"
   ]
  },
  {
   "cell_type": "code",
   "execution_count": 6,
   "id": "92d50f34-6313-4fee-a834-1df66b34da79",
   "metadata": {},
   "outputs": [
    {
     "data": {
      "text/html": [
       "<div>\n",
       "<style scoped>\n",
       "    .dataframe tbody tr th:only-of-type {\n",
       "        vertical-align: middle;\n",
       "    }\n",
       "\n",
       "    .dataframe tbody tr th {\n",
       "        vertical-align: top;\n",
       "    }\n",
       "\n",
       "    .dataframe thead th {\n",
       "        text-align: right;\n",
       "    }\n",
       "</style>\n",
       "<table border=\"1\" class=\"dataframe\">\n",
       "  <thead>\n",
       "    <tr style=\"text-align: right;\">\n",
       "      <th></th>\n",
       "      <th>country</th>\n",
       "      <th>description</th>\n",
       "      <th>designation</th>\n",
       "      <th>points</th>\n",
       "      <th>price</th>\n",
       "      <th>province</th>\n",
       "      <th>region_1</th>\n",
       "      <th>region_2</th>\n",
       "      <th>taster_name</th>\n",
       "      <th>taster_twitter_handle</th>\n",
       "      <th>title</th>\n",
       "      <th>variety</th>\n",
       "      <th>winery</th>\n",
       "    </tr>\n",
       "  </thead>\n",
       "  <tbody>\n",
       "    <tr>\n",
       "      <th>0</th>\n",
       "      <td>Italy</td>\n",
       "      <td>Aromas include tropical fruit, broom, brimston...</td>\n",
       "      <td>Vulkà Bianco</td>\n",
       "      <td>87</td>\n",
       "      <td>NaN</td>\n",
       "      <td>Sicily &amp; Sardinia</td>\n",
       "      <td>Etna</td>\n",
       "      <td>NaN</td>\n",
       "      <td>Kerin O’Keefe</td>\n",
       "      <td>@kerinokeefe</td>\n",
       "      <td>Nicosia 2013 Vulkà Bianco  (Etna)</td>\n",
       "      <td>White Blend</td>\n",
       "      <td>Nicosia</td>\n",
       "    </tr>\n",
       "    <tr>\n",
       "      <th>1</th>\n",
       "      <td>Portugal</td>\n",
       "      <td>This is ripe and fruity, a wine that is smooth...</td>\n",
       "      <td>Avidagos</td>\n",
       "      <td>87</td>\n",
       "      <td>15.0</td>\n",
       "      <td>Douro</td>\n",
       "      <td>NaN</td>\n",
       "      <td>NaN</td>\n",
       "      <td>Roger Voss</td>\n",
       "      <td>@vossroger</td>\n",
       "      <td>Quinta dos Avidagos 2011 Avidagos Red (Douro)</td>\n",
       "      <td>Portuguese Red</td>\n",
       "      <td>Quinta dos Avidagos</td>\n",
       "    </tr>\n",
       "    <tr>\n",
       "      <th>...</th>\n",
       "      <td>...</td>\n",
       "      <td>...</td>\n",
       "      <td>...</td>\n",
       "      <td>...</td>\n",
       "      <td>...</td>\n",
       "      <td>...</td>\n",
       "      <td>...</td>\n",
       "      <td>...</td>\n",
       "      <td>...</td>\n",
       "      <td>...</td>\n",
       "      <td>...</td>\n",
       "      <td>...</td>\n",
       "      <td>...</td>\n",
       "    </tr>\n",
       "    <tr>\n",
       "      <th>129969</th>\n",
       "      <td>France</td>\n",
       "      <td>A dry style of Pinot Gris, this is crisp with ...</td>\n",
       "      <td>NaN</td>\n",
       "      <td>90</td>\n",
       "      <td>32.0</td>\n",
       "      <td>Alsace</td>\n",
       "      <td>Alsace</td>\n",
       "      <td>NaN</td>\n",
       "      <td>Roger Voss</td>\n",
       "      <td>@vossroger</td>\n",
       "      <td>Domaine Marcel Deiss 2012 Pinot Gris (Alsace)</td>\n",
       "      <td>Pinot Gris</td>\n",
       "      <td>Domaine Marcel Deiss</td>\n",
       "    </tr>\n",
       "    <tr>\n",
       "      <th>129970</th>\n",
       "      <td>France</td>\n",
       "      <td>Big, rich and off-dry, this is powered by inte...</td>\n",
       "      <td>Lieu-dit Harth Cuvée Caroline</td>\n",
       "      <td>90</td>\n",
       "      <td>21.0</td>\n",
       "      <td>Alsace</td>\n",
       "      <td>Alsace</td>\n",
       "      <td>NaN</td>\n",
       "      <td>Roger Voss</td>\n",
       "      <td>@vossroger</td>\n",
       "      <td>Domaine Schoffit 2012 Lieu-dit Harth Cuvée Car...</td>\n",
       "      <td>Gewürztraminer</td>\n",
       "      <td>Domaine Schoffit</td>\n",
       "    </tr>\n",
       "  </tbody>\n",
       "</table>\n",
       "<p>129971 rows × 13 columns</p>\n",
       "</div>"
      ],
      "text/plain": [
       "         country                                        description  \\\n",
       "0          Italy  Aromas include tropical fruit, broom, brimston...   \n",
       "1       Portugal  This is ripe and fruity, a wine that is smooth...   \n",
       "...          ...                                                ...   \n",
       "129969    France  A dry style of Pinot Gris, this is crisp with ...   \n",
       "129970    France  Big, rich and off-dry, this is powered by inte...   \n",
       "\n",
       "                          designation  points  price           province  \\\n",
       "0                        Vulkà Bianco      87    NaN  Sicily & Sardinia   \n",
       "1                            Avidagos      87   15.0              Douro   \n",
       "...                               ...     ...    ...                ...   \n",
       "129969                            NaN      90   32.0             Alsace   \n",
       "129970  Lieu-dit Harth Cuvée Caroline      90   21.0             Alsace   \n",
       "\n",
       "       region_1 region_2    taster_name taster_twitter_handle  \\\n",
       "0          Etna      NaN  Kerin O’Keefe          @kerinokeefe   \n",
       "1           NaN      NaN     Roger Voss            @vossroger   \n",
       "...         ...      ...            ...                   ...   \n",
       "129969   Alsace      NaN     Roger Voss            @vossroger   \n",
       "129970   Alsace      NaN     Roger Voss            @vossroger   \n",
       "\n",
       "                                                    title         variety  \\\n",
       "0                       Nicosia 2013 Vulkà Bianco  (Etna)     White Blend   \n",
       "1           Quinta dos Avidagos 2011 Avidagos Red (Douro)  Portuguese Red   \n",
       "...                                                   ...             ...   \n",
       "129969      Domaine Marcel Deiss 2012 Pinot Gris (Alsace)      Pinot Gris   \n",
       "129970  Domaine Schoffit 2012 Lieu-dit Harth Cuvée Car...  Gewürztraminer   \n",
       "\n",
       "                      winery  \n",
       "0                    Nicosia  \n",
       "1        Quinta dos Avidagos  \n",
       "...                      ...  \n",
       "129969  Domaine Marcel Deiss  \n",
       "129970      Domaine Schoffit  \n",
       "\n",
       "[129971 rows x 13 columns]"
      ]
     },
     "execution_count": 6,
     "metadata": {},
     "output_type": "execute_result"
    }
   ],
   "source": [
    "reviews"
   ]
  },
  {
   "cell_type": "code",
   "execution_count": 9,
   "id": "04d42d3f-bcd4-4213-b7c8-ebe7e60e1918",
   "metadata": {},
   "outputs": [
    {
     "data": {
      "text/plain": [
       "count    129971.000000\n",
       "mean         88.447138\n",
       "             ...      \n",
       "75%          91.000000\n",
       "max         100.000000\n",
       "Name: points, Length: 8, dtype: float64"
      ]
     },
     "execution_count": 9,
     "metadata": {},
     "output_type": "execute_result"
    }
   ],
   "source": [
    "# Summary function, consider the describe method:\n",
    "reviews.points.describe()"
   ]
  },
  {
   "cell_type": "code",
   "execution_count": 10,
   "id": "71ccaa94-4c25-4f33-97f2-18f61b107335",
   "metadata": {},
   "outputs": [
    {
     "data": {
      "text/plain": [
       "count         103727\n",
       "unique            19\n",
       "top       Roger Voss\n",
       "freq           25514\n",
       "Name: taster_name, dtype: object"
      ]
     },
     "execution_count": 10,
     "metadata": {},
     "output_type": "execute_result"
    }
   ],
   "source": [
    "# for non numerical data, here is what we get\n",
    "reviews.taster_name.describe()"
   ]
  },
  {
   "cell_type": "code",
   "execution_count": 11,
   "id": "12bced78-a86c-4988-b50a-7a4782d144e1",
   "metadata": {},
   "outputs": [
    {
     "data": {
      "text/plain": [
       "88.44713820775404"
      ]
     },
     "execution_count": 11,
     "metadata": {},
     "output_type": "execute_result"
    }
   ],
   "source": [
    "# we can be specific about specific statistic\n",
    "reviews.points.mean()"
   ]
  },
  {
   "cell_type": "code",
   "execution_count": 12,
   "id": "76e8f26d-10cd-411f-a0db-9f01207a689a",
   "metadata": {},
   "outputs": [
    {
     "data": {
      "text/plain": [
       "array(['Kerin O’Keefe', 'Roger Voss', 'Paul Gregutt',\n",
       "       'Alexander Peartree', 'Michael Schachner', 'Anna Lee C. Iijima',\n",
       "       'Virginie Boone', 'Matt Kettmann', nan, 'Sean P. Sullivan',\n",
       "       'Jim Gordon', 'Joe Czerwinski', 'Anne Krebiehl\\xa0MW',\n",
       "       'Lauren Buzzeo', 'Mike DeSimone', 'Jeff Jenssen',\n",
       "       'Susan Kostrzewa', 'Carrie Dykes', 'Fiona Adams',\n",
       "       'Christina Pickard'], dtype=object)"
      ]
     },
     "execution_count": 12,
     "metadata": {},
     "output_type": "execute_result"
    }
   ],
   "source": [
    "# we can see unique values by using unique function\n",
    "reviews.taster_name.unique()"
   ]
  },
  {
   "cell_type": "code",
   "execution_count": 15,
   "id": "b8f5cd77-bd8a-4fc8-bd9e-173ed609d822",
   "metadata": {},
   "outputs": [
    {
     "data": {
      "text/plain": [
       "taster_name\n",
       "Roger Voss           25514\n",
       "Michael Schachner    15134\n",
       "                     ...  \n",
       "Fiona Adams             27\n",
       "Christina Pickard        6\n",
       "Name: count, Length: 19, dtype: int64"
      ]
     },
     "execution_count": 15,
     "metadata": {},
     "output_type": "execute_result"
    }
   ],
   "source": [
    "# to see unique values and see how often they happen in the dataset we can use value_counts method\n",
    "reviews.taster_name.value_counts()"
   ]
  },
  {
   "cell_type": "code",
   "execution_count": 20,
   "id": "a5f4b9c3-4e5f-4e48-9004-d3bbc63bccea",
   "metadata": {},
   "outputs": [
    {
     "data": {
      "text/plain": [
       "0        -1.447138\n",
       "1        -1.447138\n",
       "            ...   \n",
       "129969    1.552862\n",
       "129970    1.552862\n",
       "Name: points, Length: 129971, dtype: float64"
      ]
     },
     "execution_count": 20,
     "metadata": {},
     "output_type": "execute_result"
    }
   ],
   "source": [
    "# A map is a term, borrowed from mathematics, for a function that takes one set of values and \"maps\" them to another set of values.\n",
    "\n",
    "# There are two mapping methods what we'll use often\n",
    "# map() is the first, and slightly simpler one. For example, suppose that we wanted to remean the scores the wines received to 0. \n",
    "# We can do this as follows:\n",
    "reviews_points_mean = reviews.points.mean()\n",
    "reviews.points.map(lambda x: x-reviews_points_mean)"
   ]
  },
  {
   "cell_type": "code",
   "execution_count": 22,
   "id": "52c6c034-0657-40f4-a2a4-dc322e502b6a",
   "metadata": {},
   "outputs": [
    {
     "data": {
      "text/html": [
       "<div>\n",
       "<style scoped>\n",
       "    .dataframe tbody tr th:only-of-type {\n",
       "        vertical-align: middle;\n",
       "    }\n",
       "\n",
       "    .dataframe tbody tr th {\n",
       "        vertical-align: top;\n",
       "    }\n",
       "\n",
       "    .dataframe thead th {\n",
       "        text-align: right;\n",
       "    }\n",
       "</style>\n",
       "<table border=\"1\" class=\"dataframe\">\n",
       "  <thead>\n",
       "    <tr style=\"text-align: right;\">\n",
       "      <th></th>\n",
       "      <th>country</th>\n",
       "      <th>description</th>\n",
       "      <th>designation</th>\n",
       "      <th>points</th>\n",
       "      <th>price</th>\n",
       "      <th>province</th>\n",
       "      <th>region_1</th>\n",
       "      <th>region_2</th>\n",
       "      <th>taster_name</th>\n",
       "      <th>taster_twitter_handle</th>\n",
       "      <th>title</th>\n",
       "      <th>variety</th>\n",
       "      <th>winery</th>\n",
       "    </tr>\n",
       "  </thead>\n",
       "  <tbody>\n",
       "    <tr>\n",
       "      <th>0</th>\n",
       "      <td>Italy</td>\n",
       "      <td>Aromas include tropical fruit, broom, brimston...</td>\n",
       "      <td>Vulkà Bianco</td>\n",
       "      <td>-1.447138</td>\n",
       "      <td>NaN</td>\n",
       "      <td>Sicily &amp; Sardinia</td>\n",
       "      <td>Etna</td>\n",
       "      <td>NaN</td>\n",
       "      <td>Kerin O’Keefe</td>\n",
       "      <td>@kerinokeefe</td>\n",
       "      <td>Nicosia 2013 Vulkà Bianco  (Etna)</td>\n",
       "      <td>White Blend</td>\n",
       "      <td>Nicosia</td>\n",
       "    </tr>\n",
       "    <tr>\n",
       "      <th>1</th>\n",
       "      <td>Portugal</td>\n",
       "      <td>This is ripe and fruity, a wine that is smooth...</td>\n",
       "      <td>Avidagos</td>\n",
       "      <td>-1.447138</td>\n",
       "      <td>15.0</td>\n",
       "      <td>Douro</td>\n",
       "      <td>NaN</td>\n",
       "      <td>NaN</td>\n",
       "      <td>Roger Voss</td>\n",
       "      <td>@vossroger</td>\n",
       "      <td>Quinta dos Avidagos 2011 Avidagos Red (Douro)</td>\n",
       "      <td>Portuguese Red</td>\n",
       "      <td>Quinta dos Avidagos</td>\n",
       "    </tr>\n",
       "    <tr>\n",
       "      <th>...</th>\n",
       "      <td>...</td>\n",
       "      <td>...</td>\n",
       "      <td>...</td>\n",
       "      <td>...</td>\n",
       "      <td>...</td>\n",
       "      <td>...</td>\n",
       "      <td>...</td>\n",
       "      <td>...</td>\n",
       "      <td>...</td>\n",
       "      <td>...</td>\n",
       "      <td>...</td>\n",
       "      <td>...</td>\n",
       "      <td>...</td>\n",
       "    </tr>\n",
       "    <tr>\n",
       "      <th>129969</th>\n",
       "      <td>France</td>\n",
       "      <td>A dry style of Pinot Gris, this is crisp with ...</td>\n",
       "      <td>NaN</td>\n",
       "      <td>1.552862</td>\n",
       "      <td>32.0</td>\n",
       "      <td>Alsace</td>\n",
       "      <td>Alsace</td>\n",
       "      <td>NaN</td>\n",
       "      <td>Roger Voss</td>\n",
       "      <td>@vossroger</td>\n",
       "      <td>Domaine Marcel Deiss 2012 Pinot Gris (Alsace)</td>\n",
       "      <td>Pinot Gris</td>\n",
       "      <td>Domaine Marcel Deiss</td>\n",
       "    </tr>\n",
       "    <tr>\n",
       "      <th>129970</th>\n",
       "      <td>France</td>\n",
       "      <td>Big, rich and off-dry, this is powered by inte...</td>\n",
       "      <td>Lieu-dit Harth Cuvée Caroline</td>\n",
       "      <td>1.552862</td>\n",
       "      <td>21.0</td>\n",
       "      <td>Alsace</td>\n",
       "      <td>Alsace</td>\n",
       "      <td>NaN</td>\n",
       "      <td>Roger Voss</td>\n",
       "      <td>@vossroger</td>\n",
       "      <td>Domaine Schoffit 2012 Lieu-dit Harth Cuvée Car...</td>\n",
       "      <td>Gewürztraminer</td>\n",
       "      <td>Domaine Schoffit</td>\n",
       "    </tr>\n",
       "  </tbody>\n",
       "</table>\n",
       "<p>129971 rows × 13 columns</p>\n",
       "</div>"
      ],
      "text/plain": [
       "         country                                        description  \\\n",
       "0          Italy  Aromas include tropical fruit, broom, brimston...   \n",
       "1       Portugal  This is ripe and fruity, a wine that is smooth...   \n",
       "...          ...                                                ...   \n",
       "129969    France  A dry style of Pinot Gris, this is crisp with ...   \n",
       "129970    France  Big, rich and off-dry, this is powered by inte...   \n",
       "\n",
       "                          designation    points  price           province  \\\n",
       "0                        Vulkà Bianco -1.447138    NaN  Sicily & Sardinia   \n",
       "1                            Avidagos -1.447138   15.0              Douro   \n",
       "...                               ...       ...    ...                ...   \n",
       "129969                            NaN  1.552862   32.0             Alsace   \n",
       "129970  Lieu-dit Harth Cuvée Caroline  1.552862   21.0             Alsace   \n",
       "\n",
       "       region_1 region_2    taster_name taster_twitter_handle  \\\n",
       "0          Etna      NaN  Kerin O’Keefe          @kerinokeefe   \n",
       "1           NaN      NaN     Roger Voss            @vossroger   \n",
       "...         ...      ...            ...                   ...   \n",
       "129969   Alsace      NaN     Roger Voss            @vossroger   \n",
       "129970   Alsace      NaN     Roger Voss            @vossroger   \n",
       "\n",
       "                                                    title         variety  \\\n",
       "0                       Nicosia 2013 Vulkà Bianco  (Etna)     White Blend   \n",
       "1           Quinta dos Avidagos 2011 Avidagos Red (Douro)  Portuguese Red   \n",
       "...                                                   ...             ...   \n",
       "129969      Domaine Marcel Deiss 2012 Pinot Gris (Alsace)      Pinot Gris   \n",
       "129970  Domaine Schoffit 2012 Lieu-dit Harth Cuvée Car...  Gewürztraminer   \n",
       "\n",
       "                      winery  \n",
       "0                    Nicosia  \n",
       "1        Quinta dos Avidagos  \n",
       "...                      ...  \n",
       "129969  Domaine Marcel Deiss  \n",
       "129970      Domaine Schoffit  \n",
       "\n",
       "[129971 rows x 13 columns]"
      ]
     },
     "execution_count": 22,
     "metadata": {},
     "output_type": "execute_result"
    }
   ],
   "source": [
    "# apply() is the equivalent method if we want to transform a whole DataFrame by calling a custom method on each row.\n",
    "def remean_points(row):\n",
    "    row.points = row.points - reviews.points.mean()\n",
    "    return row\n",
    "\n",
    "reviews.apply(remean_points, axis=\"columns\")"
   ]
  },
  {
   "cell_type": "code",
   "execution_count": 23,
   "id": "90d87133-c5aa-4cc7-9659-0aa44d50027b",
   "metadata": {},
   "outputs": [
    {
     "data": {
      "text/plain": [
       "0        -1.447138\n",
       "1        -1.447138\n",
       "            ...   \n",
       "129969    1.552862\n",
       "129970    1.552862\n",
       "Name: points, Length: 129971, dtype: float64"
      ]
     },
     "execution_count": 23,
     "metadata": {},
     "output_type": "execute_result"
    }
   ],
   "source": [
    "# Pandas provides many common mapping operations as built-ins. For example, here's a faster way of remeaning our points column:\n",
    "\n",
    "review_points_mean = reviews.points.mean()\n",
    "reviews.points - review_points_mean"
   ]
  },
  {
   "cell_type": "code",
   "execution_count": 24,
   "id": "da3b870a-35bf-41b4-81e8-b030dd006fba",
   "metadata": {},
   "outputs": [
    {
     "data": {
      "text/plain": [
       "0            Italy _ Etna\n",
       "1                     NaN\n",
       "               ...       \n",
       "129969    France _ Alsace\n",
       "129970    France _ Alsace\n",
       "Length: 129971, dtype: object"
      ]
     },
     "execution_count": 24,
     "metadata": {},
     "output_type": "execute_result"
    }
   ],
   "source": [
    "# an easy way of combining country and region information in the dataset would be to do the following:\n",
    "reviews.country + \" _ \" + reviews.region_1"
   ]
  },
  {
   "cell_type": "code",
   "execution_count": 26,
   "id": "fee482f9-d35c-40c2-9d6c-1ebb41baaf4c",
   "metadata": {},
   "outputs": [
    {
     "data": {
      "text/plain": [
       "88.0"
      ]
     },
     "execution_count": 26,
     "metadata": {},
     "output_type": "execute_result"
    }
   ],
   "source": [
    "# median of points in reviews\n",
    "median_points = reviews.points.median()\n",
    "median_points"
   ]
  },
  {
   "cell_type": "code",
   "execution_count": 28,
   "id": "5157817f-ecaf-467e-ae0a-0412dfeea81b",
   "metadata": {},
   "outputs": [
    {
     "data": {
      "text/plain": [
       "array(['Italy', 'Portugal', 'US', 'Spain', 'France', 'Germany',\n",
       "       'Argentina', 'Chile', 'Australia', 'Austria', 'South Africa',\n",
       "       'New Zealand', 'Israel', 'Hungary', 'Greece', 'Romania', 'Mexico',\n",
       "       'Canada', nan, 'Turkey', 'Czech Republic', 'Slovenia',\n",
       "       'Luxembourg', 'Croatia', 'Georgia', 'Uruguay', 'England',\n",
       "       'Lebanon', 'Serbia', 'Brazil', 'Moldova', 'Morocco', 'Peru',\n",
       "       'India', 'Bulgaria', 'Cyprus', 'Armenia', 'Switzerland',\n",
       "       'Bosnia and Herzegovina', 'Ukraine', 'Slovakia', 'Macedonia',\n",
       "       'China', 'Egypt'], dtype=object)"
      ]
     },
     "execution_count": 28,
     "metadata": {},
     "output_type": "execute_result"
    }
   ],
   "source": [
    "# What countries are represented in the dataset? (Your answer should not include any duplicates.)\n",
    "countries = reviews.country.unique()\n",
    "countries"
   ]
  },
  {
   "cell_type": "code",
   "execution_count": 47,
   "id": "1baa2bb2-1fea-46f4-aa26-5268792febca",
   "metadata": {},
   "outputs": [
    {
     "data": {
      "text/plain": [
       "country\n",
       "US        54504\n",
       "France    22093\n",
       "          ...  \n",
       "China         1\n",
       "Egypt         1\n",
       "Name: count, Length: 43, dtype: int64"
      ]
     },
     "execution_count": 47,
     "metadata": {},
     "output_type": "execute_result"
    }
   ],
   "source": [
    "# How often does each country appear in the dataset? Create a Series reviews_per_country mapping countries to the count of reviews of wines from that country.\n",
    "reviews_per_country = reviews.country.value_counts()\n",
    "reviews_per_country"
   ]
  },
  {
   "cell_type": "code",
   "execution_count": 32,
   "id": "37331450-6ae9-45dc-b85c-4e8b5b94c0c8",
   "metadata": {},
   "outputs": [
    {
     "data": {
      "text/plain": [
       "0               NaN\n",
       "1        -20.363389\n",
       "            ...    \n",
       "129969    -3.363389\n",
       "129970   -14.363389\n",
       "Name: price, Length: 129971, dtype: float64"
      ]
     },
     "execution_count": 32,
     "metadata": {},
     "output_type": "execute_result"
    }
   ],
   "source": [
    "# Create variable centered_price containing a version of the price column with the mean price subtracted.\n",
    "centered_price = reviews.price - reviews.price.mean()\n",
    "centered_price"
   ]
  },
  {
   "cell_type": "code",
   "execution_count": 36,
   "id": "6ca3bcf7-e869-45af-a996-dda1ce504cee",
   "metadata": {},
   "outputs": [
    {
     "data": {
      "text/plain": [
       "'Bandit NV Merlot (California)'"
      ]
     },
     "execution_count": 36,
     "metadata": {},
     "output_type": "execute_result"
    }
   ],
   "source": [
    "bargain_idx = (reviews.points / reviews.price).idxmax()\n",
    "\n",
    "bargain_wine = reviews.loc[bargain_idx, 'title']\n",
    "bargain_wine"
   ]
  },
  {
   "cell_type": "code",
   "execution_count": 48,
   "id": "34290761-5a74-4a07-a7fc-226ef11dd414",
   "metadata": {},
   "outputs": [
    {
     "data": {
      "text/plain": [
       "tropical    3607\n",
       "fruity      9090\n",
       "dtype: int64"
      ]
     },
     "execution_count": 48,
     "metadata": {},
     "output_type": "execute_result"
    }
   ],
   "source": [
    "n_trop = reviews.description.map(lambda desc: \"tropical\" in desc).sum()\n",
    "n_fruity = reviews.description.map(lambda desc: \"fruity\" in desc).sum()\n",
    "descriptor_counts = pd.Series([n_trop, n_fruity], index=[\"tropical\", \"fruity\"])\n",
    "descriptor_counts"
   ]
  },
  {
   "cell_type": "code",
   "execution_count": 50,
   "id": "a13a68a0-e1df-4286-bc3a-b85ffc923124",
   "metadata": {},
   "outputs": [
    {
     "data": {
      "text/plain": [
       "0         2\n",
       "1         2\n",
       "         ..\n",
       "129969    2\n",
       "129970    2\n",
       "Length: 129971, dtype: int64"
      ]
     },
     "execution_count": 50,
     "metadata": {},
     "output_type": "execute_result"
    }
   ],
   "source": [
    "def star_ratings(row):\n",
    "    if row.country == \"Canada\":\n",
    "        return 3\n",
    "    if row.points >= 95:\n",
    "        return 3\n",
    "    elif row.points >= 85:\n",
    "        return 2\n",
    "    else:\n",
    "        return 1\n",
    "    return row\n",
    "\n",
    "reviews.apply(star_ratings, axis=\"columns\")"
   ]
  },
  {
   "cell_type": "code",
   "execution_count": null,
   "id": "f9046cc6-1f5e-4761-a74e-7225bfc83206",
   "metadata": {},
   "outputs": [],
   "source": []
  }
 ],
 "metadata": {
  "kernelspec": {
   "display_name": "Python 3 (ipykernel)",
   "language": "python",
   "name": "python3"
  },
  "language_info": {
   "codemirror_mode": {
    "name": "ipython",
    "version": 3
   },
   "file_extension": ".py",
   "mimetype": "text/x-python",
   "name": "python",
   "nbconvert_exporter": "python",
   "pygments_lexer": "ipython3",
   "version": "3.12.2"
  }
 },
 "nbformat": 4,
 "nbformat_minor": 5
}
