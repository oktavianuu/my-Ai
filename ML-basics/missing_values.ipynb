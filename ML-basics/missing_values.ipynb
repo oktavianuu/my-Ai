{
 "cells": [
  {
   "cell_type": "code",
   "execution_count": 1,
   "metadata": {},
   "outputs": [],
   "source": [
    "import pandas as pd"
   ]
  },
  {
   "cell_type": "code",
   "execution_count": 3,
   "metadata": {},
   "outputs": [],
   "source": [
    "data_filepath = '/home/oktavianu/my-Ai/ML-basics/melb_data.csv'\n",
    "data = pd.read_csv(data_filepath)"
   ]
  },
  {
   "cell_type": "code",
   "execution_count": 4,
   "metadata": {},
   "outputs": [],
   "source": [
    "# Select Target \n",
    "y = data.Price"
   ]
  },
  {
   "cell_type": "code",
   "execution_count": 5,
   "metadata": {},
   "outputs": [],
   "source": [
    "# Use only numerical predictors to make things simple\n",
    "melb_predictors = data.drop(['Price'], axis=1) # drop or exclude 'Price' from our predictors\n",
    "X = melb_predictors.select_dtypes(exclude=['object']) # exlude object so that X will only contains column with numbers as data types\n"
   ]
  },
  {
   "cell_type": "code",
   "execution_count": 6,
   "metadata": {},
   "outputs": [],
   "source": [
    "from sklearn.model_selection import train_test_split\n",
    "\n",
    "# Divide data into training and testing or validations subsets\n",
    "X_train, X_valid, y_train, y_valid = train_test_split(X, y, train_size=0.8, test_size=0.2, random_state=1)"
   ]
  },
  {
   "cell_type": "code",
   "execution_count": 17,
   "metadata": {},
   "outputs": [],
   "source": [
    "from sklearn.ensemble import RandomForestRegressor\n",
    "from sklearn.metrics import mean_absolute_error\n",
    "\n",
    "# Define function to measure each approach \n",
    "def score_dataset(X_train, X_valid, y_train, y_valid):\n",
    "    model = RandomForestRegressor(n_estimators=10, random_state=0)\n",
    "    model.fit(X_train, y_train)\n",
    "    preds = model.predict(X_valid)\n",
    "    return mean_absolute_error(preds, y_valid)"
   ]
  },
  {
   "cell_type": "code",
   "execution_count": 18,
   "metadata": {},
   "outputs": [
    {
     "data": {
      "text/plain": [
       "['Car', 'BuildingArea', 'YearBuilt']"
      ]
     },
     "execution_count": 18,
     "metadata": {},
     "output_type": "execute_result"
    }
   ],
   "source": [
    "# Obtain score mae from approach 1:\n",
    "\n",
    "# get columns' names with missing values\n",
    "cols_with_mv = [col for col in X_train.columns if X_train[col].isnull().any()]\n",
    "cols_with_mv"
   ]
  },
  {
   "cell_type": "code",
   "execution_count": 20,
   "metadata": {},
   "outputs": [
    {
     "name": "stdout",
     "output_type": "stream",
     "text": [
      "MAE from approach 1 (Drop columns with mssing values: \n",
      "186029.25597692686\n"
     ]
    }
   ],
   "source": [
    "# Now we already have the columns with msiing values which are ['Car', 'BuildingArea', 'YearBuilt']\n",
    "# Drop columns in training and validation data with missing values\n",
    "reduced_X_train = X_train.drop(cols_with_mv, axis=1)\n",
    "reduced_X_valid = X_valid.drop(cols_with_mv, axis=1) \n",
    "\n",
    "#print(\"X before missing values dropped:\")\n",
    "#X_train.head()\n",
    "#print(\"X after dropping mssing values\")\n",
    "#reduced_X_train.head()\n",
    "\n",
    "print(\"MAE from approach 1 (Drop columns with mssing values: \")\n",
    "print(score_dataset(reduced_X_train, reduced_X_valid, y_train, y_valid))"
   ]
  },
  {
   "cell_type": "code",
   "execution_count": 23,
   "metadata": {},
   "outputs": [
    {
     "name": "stdout",
     "output_type": "stream",
     "text": [
      "MAE from approach 2 (Imputation):\n",
      "178605.2755768287\n"
     ]
    }
   ],
   "source": [
    "# score from approach 2, imputation\n",
    "# We will use SimpleImputer to to replace mssing values with the mean along each column.\n",
    "from sklearn.impute import SimpleImputer\n",
    "\n",
    "# Imputation\n",
    "my_imputer = SimpleImputer()\n",
    "imputed_X_train = pd.DataFrame(my_imputer.fit_transform(X_train))\n",
    "imputed_X_valid = pd.DataFrame(my_imputer.transform(X_valid))\n",
    "\n",
    "# Imputation removes columns name, we need to put 'em back\n",
    "imputed_X_train.columns = X_train.columns\n",
    "imputed_X_valid.columns = X_valid.columns\n",
    "\n",
    "print('MAE from approach 2 (Imputation):')\n",
    "print(score_dataset(X_train, X_valid, y_train, y_valid))\n",
    "\n"
   ]
  },
  {
   "cell_type": "code",
   "execution_count": null,
   "metadata": {},
   "outputs": [],
   "source": [
    "# Score from approach 3 (extension of imputation):\n",
    "\n",
    "# make a copy to avoid "
   ]
  }
 ],
 "metadata": {
  "kernelspec": {
   "display_name": "Ai",
   "language": "python",
   "name": "python3"
  },
  "language_info": {
   "codemirror_mode": {
    "name": "ipython",
    "version": 3
   },
   "file_extension": ".py",
   "mimetype": "text/x-python",
   "name": "python",
   "nbconvert_exporter": "python",
   "pygments_lexer": "ipython3",
   "version": "3.12.2"
  }
 },
 "nbformat": 4,
 "nbformat_minor": 2
}
